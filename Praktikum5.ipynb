{
  "nbformat": 4,
  "nbformat_minor": 0,
  "metadata": {
    "colab": {
      "provenance": [],
      "authorship_tag": "ABX9TyO34oTY45PZ3Zy0jccapn8F",
      "include_colab_link": true
    },
    "kernelspec": {
      "name": "python3",
      "display_name": "Python 3"
    },
    "language_info": {
      "name": "python"
    }
  },
  "cells": [
    {
      "cell_type": "markdown",
      "metadata": {
        "id": "view-in-github",
        "colab_type": "text"
      },
      "source": [
        "<a href=\"https://colab.research.google.com/github/audyacantika-lab/ddp-2025/blob/main/Praktikum5.ipynb\" target=\"_parent\"><img src=\"https://colab.research.google.com/assets/colab-badge.svg\" alt=\"Open In Colab\"/></a>"
      ]
    },
    {
      "cell_type": "code",
      "execution_count": null,
      "metadata": {
        "colab": {
          "base_uri": "https://localhost:8080/"
        },
        "id": "ktvFb70w0GaV",
        "outputId": "43e86fb2-dad2-4fa1-cc00-5c4be7ecfa9e"
      },
      "outputs": [
        {
          "output_type": "stream",
          "name": "stdout",
          "text": [
            "['Beat Ember', 200, 'hitam', 2]\n",
            "['Beat Ember', 200, 'hitam', 2, 5000, 'metic']\n",
            "['Beat Ember', 200, 'Honda', 'hitam', 2, 5000, 'metic']\n"
          ]
        }
      ],
      "source": [
        "namaKendaraan = \"Beat Ember\"\n",
        "jeniskKendaraan = \"motor\"\n",
        "ccKendaraan = 200\n",
        "warnaKendaraan = \"hitam\"\n",
        "rodaKendaraan = 2\n",
        "\n",
        "data_Kendaraan = [namaKendaraan, ccKendaraan, warnaKendaraan, rodaKendaraan\n",
        "]\n",
        "\n",
        "print(data_Kendaraan)\n",
        "\n",
        "hargaKendaraan = 5000\n",
        "tipeKendaraan = \"metic\"\n",
        "\n",
        "data_Kendaraan.append(hargaKendaraan)\n",
        "data_Kendaraan.append(tipeKendaraan)\n",
        "print(data_Kendaraan)\n",
        "\n",
        "merkKendaraan = \"Honda\"\n",
        "data_Kendaraan.insert(2, merkKendaraan)\n",
        "print(data_Kendaraan)"
      ]
    },
    {
      "cell_type": "code",
      "source": [
        "pilihan = input(\"\"\"\n",
        "silahkan pilih menu yang diinginkan\n",
        "===================\n",
        "1. Luas Persegi\n",
        "2. Luas Lingkaran\n",
        "3. Luas Segitiga\n",
        "===================\n",
        "Kirimkan hanya angka saja,\n",
        "jawaban = \"\"\")\n",
        "match pilihan :\n",
        "  case \"1\" :\n",
        "   print(\"anda memilih Luas persegi silahkan isi data dibawah\")\n",
        "   sisi = int(input(\"sisi = \"))\n",
        "   Luas = sisi * sisi\n",
        "   print(f\"Luas persegi dengan sisi {sisi} adalah {Luas}\")\n",
        "   # Luas persegi\n",
        "  case \"2\" :\n",
        "   # Luas Lingkaran\n",
        "   # phi * jarijari**2\n",
        "   print(\"anda memilih Luas segitiga silahkan isi data dibawah\")\n",
        "   jarijari = int(input(\"jarijari = \"))\n",
        "   luas = 3.14 * jarijari**2\n",
        "\n",
        "   print(\"luas lingkaran dengan jarijari {jarijari} adalah {sisi}\")\n",
        "  case \"3\" :\n",
        "   # Luas Segitiga\n",
        "   # (alas * tinggi)/2\n",
        "   Print(\"anda memilih luas segitiga\")\n",
        "   atas = int(input(\"atas = \"))\n",
        "   tinggi = 13 * atas\n",
        "\n",
        "   print(f\"luas segitiga dengan atas {atas} adalah {tinggi}\")\n",
        "  case _:\n",
        "   print(\"ya nda tau kok tanya saya si\")"
      ],
      "metadata": {
        "id": "9Q4_s9or9Xze"
      },
      "execution_count": null,
      "outputs": []
    }
  ]
}